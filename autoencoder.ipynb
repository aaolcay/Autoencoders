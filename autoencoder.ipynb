{
  "nbformat": 4,
  "nbformat_minor": 0,
  "metadata": {
    "colab": {
      "provenance": [],
      "authorship_tag": "ABX9TyOXuZ6wGzqXrGwHdOqBT6VM",
      "include_colab_link": true
    },
    "kernelspec": {
      "name": "python3",
      "display_name": "Python 3"
    },
    "language_info": {
      "name": "python"
    }
  },
  "cells": [
    {
      "cell_type": "markdown",
      "metadata": {
        "id": "view-in-github",
        "colab_type": "text"
      },
      "source": [
        "<a href=\"https://colab.research.google.com/github/aaolcay/Autoencoders/blob/main/autoencoder.ipynb\" target=\"_parent\"><img src=\"https://colab.research.google.com/assets/colab-badge.svg\" alt=\"Open In Colab\"/></a>"
      ]
    },
    {
      "cell_type": "markdown",
      "source": [
        "## **Author**\n",
        "*The code was written by Abdullah Olcay (University of Southampton). If you want to copy or share the code, please refer to me!*\n",
        "\n",
        "*The autoencoder architecture was constituted as similar to Valerio Velardo's work (you can access his YouTube channel on `https://www.youtube.com/@ValerioVelardoTheSoundofAI`). This is because of a need for detailed comparison of our model's output. The author highly recommends you to follow his lectures if you are interested in artificial intelligence on audio/sound.*\n",
        "\n",
        "\n",
        "\n",
        "*For more information contact me:* \n",
        "*olcayazzam@gmail.com*"
      ],
      "metadata": {
        "id": "HbH8_3MonIQ8"
      }
    },
    {
      "cell_type": "markdown",
      "source": [
        "## **Load Data**\n",
        "The data used in the autoencoder implementation is taken from `tensorflow`. That is `mnist` including images of numbers."
      ],
      "metadata": {
        "id": "DV0lM4jvTKsE"
      }
    },
    {
      "cell_type": "code",
      "source": [
        "# Load Data\n",
        "from tensorflow.keras.datasets import mnist\n",
        "import numpy as np\n",
        "\n",
        "(x_train, y_train), (x_test, y_test) = mnist.load_data()\n",
        "x_train = x_train.astype('float32')/255\n",
        "x_train = x_train[..., np.newaxis]\n",
        "print(x_train.shape)"
      ],
      "metadata": {
        "colab": {
          "base_uri": "https://localhost:8080/"
        },
        "id": "Fc3DI_GOTg-T",
        "outputId": "3660bbda-ad1c-498f-fb55-28cc4a4e112d"
      },
      "execution_count": 16,
      "outputs": [
        {
          "output_type": "stream",
          "name": "stdout",
          "text": [
            "(60000, 28, 28, 1)\n"
          ]
        }
      ]
    },
    {
      "cell_type": "markdown",
      "source": [
        "## **Autoencoders**\n",
        "This python script contains an implementation of a basic autoencoders with convolutional layers `(conv2D)`. Autoencoders include three main stages:\n",
        "1. **Encoder**: 4 layers with (conv2D + ReLU + BatchNormalization)\n",
        "2. **Bottleneck**: Flatten + Dense\n",
        "3. **Decoder**: 4 layers with conv2D + ReLU + BatchNormalization\n",
        "\n",
        "Note: In this application, **Keras functional API** is used. \n",
        "Definition: The Keras functional API is the way to go for defining complex models, such as multi-output models, directed acyclic graphs, or models with shared layers."
      ],
      "metadata": {
        "id": "U2I-ezJo-nVP"
      }
    },
    {
      "cell_type": "code",
      "execution_count": 17,
      "metadata": {
        "id": "nqol3EJI-Zdg"
      },
      "outputs": [],
      "source": [
        "import tensorflow.keras as keras\n",
        "import numpy as np\n",
        "from keras import backend"
      ]
    },
    {
      "cell_type": "code",
      "source": [
        "# Load Data\n",
        "# input_shape = (x_train.shape[1],x_train.shape[2])\n",
        "input_shape = (x_train.shape[1],x_train.shape[2],1)"
      ],
      "metadata": {
        "id": "icPT_mpkANdC"
      },
      "execution_count": 18,
      "outputs": []
    },
    {
      "cell_type": "markdown",
      "source": [
        "### **Encoder**"
      ],
      "metadata": {
        "id": "YB9RiSERFowz"
      }
    },
    {
      "cell_type": "code",
      "source": [
        "# 1. Encoder\n",
        "encoder_input_layer = keras.layers.Input(shape=input_shape, name='encoder_input')\n",
        "conv_layer_1 = keras.layers.Conv2D(filters=32, \n",
        "                                   kernel_size=(3,3),\n",
        "                                   strides= (1,1),\n",
        "                                   padding='same',\n",
        "                                   name='encoder_conv_layer_1')\n",
        "conv_layer_1 = conv_layer_1(encoder_input_layer)\n",
        "conv_layer_1 = keras.layers.ReLU(name='encoder_relu_1')(conv_layer_1)\n",
        "conv_layer_1 = keras.layers.BatchNormalization(name='encoder_bn_1')(conv_layer_1)\n",
        "\n",
        "conv_layer_2 = keras.layers.Conv2D(filters=64, \n",
        "                                   kernel_size=(3,3),\n",
        "                                   strides= (2,2),\n",
        "                                   padding='same',\n",
        "                                   name='encoder_conv_layer_2') \n",
        "conv_layer_2 = conv_layer_2(conv_layer_1)\n",
        "conv_layer_2 = keras.layers.ReLU(name='encoder_relu_2')(conv_layer_2)\n",
        "conv_layer_2 = keras.layers.BatchNormalization(name='encoder_bn_2')(conv_layer_2)\n",
        "\n",
        "conv_layer_3 = keras.layers.Conv2D(filters=64, \n",
        "                                   kernel_size=(3,3),\n",
        "                                   strides= (2,2),\n",
        "                                   padding='same',\n",
        "                                   name='encoder_conv_layer_3') \n",
        "conv_layer_3 = conv_layer_3(conv_layer_2)\n",
        "conv_layer_3 = keras.layers.ReLU(name='encoder_relu_3')(conv_layer_3)\n",
        "conv_layer_3 = keras.layers.BatchNormalization(name='encoder_bn_3')(conv_layer_3)\n",
        "\n",
        "conv_layer_4 = keras.layers.Conv2D(filters=64, \n",
        "                                   kernel_size=(3,3),\n",
        "                                   strides= (1,1),\n",
        "                                   padding='same',\n",
        "                                   name='encoder_conv_layer_4') \n",
        "conv_layer_4 = conv_layer_4(conv_layer_3)\n",
        "conv_layer_4 = keras.layers.ReLU(name='encoder_relu_4')(conv_layer_4)\n",
        "conv_layer_4 = keras.layers.BatchNormalization(name='encoder_bn_4')(conv_layer_4)\n",
        "model_encoder = conv_layer_4"
      ],
      "metadata": {
        "id": "3G1Yf1WF_4bE"
      },
      "execution_count": 19,
      "outputs": []
    },
    {
      "cell_type": "markdown",
      "source": [
        "### **Bottleneck**"
      ],
      "metadata": {
        "id": "1yZzLEmNyIwG"
      }
    },
    {
      "cell_type": "code",
      "source": [
        "# 2. Bottleneck\n",
        "latent_space_dim = 2\n",
        "bottleneck = keras.layers.Flatten()(model_encoder)\n",
        "bottleneck = keras.layers.Dense(latent_space_dim, name='encoder_output')(bottleneck)"
      ],
      "metadata": {
        "id": "XvcWi2Q6AZg6"
      },
      "execution_count": 20,
      "outputs": []
    },
    {
      "cell_type": "code",
      "source": [
        "# Make this network a model\n",
        "encoder = keras.Model(encoder_input_layer,bottleneck, name='encoder')\n",
        "#encoder.summary()"
      ],
      "metadata": {
        "id": "1vGq1pzZE55Y"
      },
      "execution_count": 21,
      "outputs": []
    },
    {
      "cell_type": "markdown",
      "source": [
        "### **Decoder**"
      ],
      "metadata": {
        "id": "TnDP0zwhyL1s"
      }
    },
    {
      "cell_type": "code",
      "source": [
        "from keras.engine import input_layer\n",
        "# 3. Decoder\n",
        "\n",
        "# The input, which is latent space (bottleneck), of decoder\n",
        "decoder_input_layer = keras.layers.Input(shape=latent_space_dim, name='decoder_input')\n",
        "\n",
        "# Build a dense layer as we need to mirror our encoder, this dense will hold all the output\n",
        "# of encoder in 1D vector\n",
        "shape_last_en = conv_layer_4.shape[1:] # take the shape of the latest layer in encoder: [7, 7, 64]\n",
        "num_neurons = np.prod(shape_last_en) # 7 x 7 x 64 = 3136\n",
        "decoder_dense_layer = keras.layers.Dense(num_neurons, name= 'decoder_dense_layer')(decoder_input_layer)\n",
        "\n",
        "# Thus, dense layer flatten our output from the encoder, we need to reshape it\n",
        "decoder_reshape_layer = keras.layers.Reshape(shape_last_en)(decoder_dense_layer)\n",
        "\n",
        "# Decoder Convolutional Layers (Mirror of Encoder)\n",
        "# Therefore, we also use convolutional transpose\n",
        "dec_conv_layer_1 = keras.layers.Conv2DTranspose(filters=64, \n",
        "                                   kernel_size=(3,3),\n",
        "                                   strides= (1,1),\n",
        "                                   padding='same',\n",
        "                                   name='decoder_conv_layer_1')\n",
        "dec_conv_layer_1 = dec_conv_layer_1(decoder_reshape_layer)\n",
        "dec_conv_layer_1 = keras.layers.ReLU(name='decoder_relu_1')(dec_conv_layer_1)\n",
        "dec_conv_layer_1 = keras.layers.BatchNormalization(name='decoder_bn_1')(dec_conv_layer_1)\n",
        "\n",
        "dec_conv_layer_2 = keras.layers.Conv2DTranspose(filters=64, \n",
        "                                   kernel_size=(3,3),\n",
        "                                   strides= (2,2),\n",
        "                                   padding='same',\n",
        "                                   name='decoder_conv_layer_2') \n",
        "dec_conv_layer_2 = dec_conv_layer_2(dec_conv_layer_1)\n",
        "dec_conv_layer_2 = keras.layers.ReLU(name='decoder_relu_2')(dec_conv_layer_2)\n",
        "dec_conv_layer_2 = keras.layers.BatchNormalization(name='decoder_bn_2')(dec_conv_layer_2)\n",
        "\n",
        "dec_conv_layer_3 = keras.layers.Conv2DTranspose(filters=64, \n",
        "                                   kernel_size=(3,3),\n",
        "                                   strides= (2,2),\n",
        "                                   padding='same',\n",
        "                                   name='decoder_conv_layer_3') \n",
        "dec_conv_layer_3 = dec_conv_layer_3(dec_conv_layer_2)\n",
        "dec_conv_layer_3 = keras.layers.ReLU(name='decoder_relu_3')(dec_conv_layer_3)\n",
        "dec_conv_layer_3 = keras.layers.BatchNormalization(name='decoder_bn_3')(dec_conv_layer_3)\n",
        "\n",
        "# Output layer of decoder (we had 4 convolutional layers in encoder, and so \n",
        "# the latest layer of decoder corresponds to the the fourth layer in encoder)\n",
        "dec_conv_layer_4 = keras.layers.Conv2DTranspose(filters=1, # as images have 1 channel  \n",
        "                                   kernel_size=(3,3),\n",
        "                                   strides= (1,1),\n",
        "                                   padding='same',\n",
        "                                   name='decoder_conv_layer_4')\n",
        "dec_conv_layer_4 = dec_conv_layer_4(dec_conv_layer_3)\n",
        "decoder_output_layer = keras.layers.Activation('sigmoid', name=\"sigmoid_layer\")(dec_conv_layer_4)"
      ],
      "metadata": {
        "id": "Of8x2QVnAbyi"
      },
      "execution_count": 22,
      "outputs": []
    },
    {
      "cell_type": "code",
      "source": [
        "# Make this network a model\n",
        "decoder = keras.Model(decoder_input_layer,decoder_output_layer, name='decoder')"
      ],
      "metadata": {
        "id": "a5MNQg8ix5we"
      },
      "execution_count": 23,
      "outputs": []
    },
    {
      "cell_type": "markdown",
      "source": [
        "### **Autoencoder (Combining encoder and decoder parts)**\n",
        "To build autoencoder, we need to combine both encoder and decoder parts."
      ],
      "metadata": {
        "id": "HAIIS8Amv8d4"
      }
    },
    {
      "cell_type": "code",
      "source": [
        "# Autoencoder\n",
        "# autoencoder's input is the same as the input of encoder\n",
        "autoencoder_input = encoder_input_layer\n",
        "# autoencoder's output is the output of decoder that takes encoder with encoder input\n",
        "autoencoder_output = decoder(encoder(encoder_input_layer))\n",
        "autoencoder = keras.Model(autoencoder_input, autoencoder_output, name='autoencoder')"
      ],
      "metadata": {
        "id": "JE3ZHzn-wH8P"
      },
      "execution_count": 24,
      "outputs": []
    },
    {
      "cell_type": "code",
      "source": [
        "encoder.summary()\n",
        "decoder.summary()\n",
        "autoencoder.summary()"
      ],
      "metadata": {
        "colab": {
          "base_uri": "https://localhost:8080/"
        },
        "id": "UKME899xyPOr",
        "outputId": "7f913c4a-3044-43dd-f3b7-95642e86e1cb"
      },
      "execution_count": 25,
      "outputs": [
        {
          "output_type": "stream",
          "name": "stdout",
          "text": [
            "Model: \"encoder\"\n",
            "_________________________________________________________________\n",
            " Layer (type)                Output Shape              Param #   \n",
            "=================================================================\n",
            " encoder_input (InputLayer)  [(None, 28, 28, 1)]       0         \n",
            "                                                                 \n",
            " encoder_conv_layer_1 (Conv2  (None, 28, 28, 32)       320       \n",
            " D)                                                              \n",
            "                                                                 \n",
            " encoder_relu_1 (ReLU)       (None, 28, 28, 32)        0         \n",
            "                                                                 \n",
            " encoder_bn_1 (BatchNormaliz  (None, 28, 28, 32)       128       \n",
            " ation)                                                          \n",
            "                                                                 \n",
            " encoder_conv_layer_2 (Conv2  (None, 14, 14, 64)       18496     \n",
            " D)                                                              \n",
            "                                                                 \n",
            " encoder_relu_2 (ReLU)       (None, 14, 14, 64)        0         \n",
            "                                                                 \n",
            " encoder_bn_2 (BatchNormaliz  (None, 14, 14, 64)       256       \n",
            " ation)                                                          \n",
            "                                                                 \n",
            " encoder_conv_layer_3 (Conv2  (None, 7, 7, 64)         36928     \n",
            " D)                                                              \n",
            "                                                                 \n",
            " encoder_relu_3 (ReLU)       (None, 7, 7, 64)          0         \n",
            "                                                                 \n",
            " encoder_bn_3 (BatchNormaliz  (None, 7, 7, 64)         256       \n",
            " ation)                                                          \n",
            "                                                                 \n",
            " encoder_conv_layer_4 (Conv2  (None, 7, 7, 64)         36928     \n",
            " D)                                                              \n",
            "                                                                 \n",
            " encoder_relu_4 (ReLU)       (None, 7, 7, 64)          0         \n",
            "                                                                 \n",
            " encoder_bn_4 (BatchNormaliz  (None, 7, 7, 64)         256       \n",
            " ation)                                                          \n",
            "                                                                 \n",
            " flatten_1 (Flatten)         (None, 3136)              0         \n",
            "                                                                 \n",
            " encoder_output (Dense)      (None, 2)                 6274      \n",
            "                                                                 \n",
            "=================================================================\n",
            "Total params: 99,842\n",
            "Trainable params: 99,394\n",
            "Non-trainable params: 448\n",
            "_________________________________________________________________\n",
            "Model: \"decoder\"\n",
            "_________________________________________________________________\n",
            " Layer (type)                Output Shape              Param #   \n",
            "=================================================================\n",
            " decoder_input (InputLayer)  [(None, 2)]               0         \n",
            "                                                                 \n",
            " decoder_dense_layer (Dense)  (None, 3136)             9408      \n",
            "                                                                 \n",
            " reshape_1 (Reshape)         (None, 7, 7, 64)          0         \n",
            "                                                                 \n",
            " decoder_conv_layer_1 (Conv2  (None, 7, 7, 64)         36928     \n",
            " DTranspose)                                                     \n",
            "                                                                 \n",
            " decoder_relu_1 (ReLU)       (None, 7, 7, 64)          0         \n",
            "                                                                 \n",
            " decoder_bn_1 (BatchNormaliz  (None, 7, 7, 64)         256       \n",
            " ation)                                                          \n",
            "                                                                 \n",
            " decoder_conv_layer_2 (Conv2  (None, 14, 14, 64)       36928     \n",
            " DTranspose)                                                     \n",
            "                                                                 \n",
            " decoder_relu_2 (ReLU)       (None, 14, 14, 64)        0         \n",
            "                                                                 \n",
            " decoder_bn_2 (BatchNormaliz  (None, 14, 14, 64)       256       \n",
            " ation)                                                          \n",
            "                                                                 \n",
            " decoder_conv_layer_3 (Conv2  (None, 28, 28, 64)       36928     \n",
            " DTranspose)                                                     \n",
            "                                                                 \n",
            " decoder_relu_3 (ReLU)       (None, 28, 28, 64)        0         \n",
            "                                                                 \n",
            " decoder_bn_3 (BatchNormaliz  (None, 28, 28, 64)       256       \n",
            " ation)                                                          \n",
            "                                                                 \n",
            " decoder_conv_layer_4 (Conv2  (None, 28, 28, 1)        577       \n",
            " DTranspose)                                                     \n",
            "                                                                 \n",
            " sigmoid_layer (Activation)  (None, 28, 28, 1)         0         \n",
            "                                                                 \n",
            "=================================================================\n",
            "Total params: 121,537\n",
            "Trainable params: 121,153\n",
            "Non-trainable params: 384\n",
            "_________________________________________________________________\n",
            "Model: \"autoencoder\"\n",
            "_________________________________________________________________\n",
            " Layer (type)                Output Shape              Param #   \n",
            "=================================================================\n",
            " encoder_input (InputLayer)  [(None, 28, 28, 1)]       0         \n",
            "                                                                 \n",
            " encoder (Functional)        (None, 2)                 99842     \n",
            "                                                                 \n",
            " decoder (Functional)        (None, 28, 28, 1)         121537    \n",
            "                                                                 \n",
            "=================================================================\n",
            "Total params: 221,379\n",
            "Trainable params: 220,547\n",
            "Non-trainable params: 832\n",
            "_________________________________________________________________\n"
          ]
        }
      ]
    },
    {
      "cell_type": "markdown",
      "source": [
        "#### **Compile Autoencoder Model**\n",
        "We chose `Adam` optimizer and `MeanSquaredError` as loss function"
      ],
      "metadata": {
        "id": "a6MQN8_Lz6XU"
      }
    },
    {
      "cell_type": "code",
      "source": [
        "# Compile network (Adam optimizer with learning rate 0.0005)\n",
        "optimizer = keras.optimizers.Adam(learning_rate=0.0005)\n",
        "mse_loss = keras.losses.MeanSquaredError()\n",
        "autoencoder.compile(optimizer=optimizer, loss=mse_loss, metrics=['accuracy'])"
      ],
      "metadata": {
        "id": "sMAx6ezp0AgD"
      },
      "execution_count": 26,
      "outputs": []
    },
    {
      "cell_type": "markdown",
      "source": [
        "#### **Train Autoencoder Model**\n",
        "The data chose in directly taken from **Kaggle** `mnist` file that includes bunch of images.\n",
        "The batch size was chosen, to mitigate possibility of overfitting, as "
      ],
      "metadata": {
        "id": "1hx0hTpj0wIH"
      }
    },
    {
      "cell_type": "code",
      "source": [
        "# Train network\n",
        "history = autoencoder.fit(x_train[:500], \n",
        "                  x_train[:500], # we expect to get the output as same as input\n",
        "                  batch_size=32,\n",
        "                  epochs=50)"
      ],
      "metadata": {
        "colab": {
          "base_uri": "https://localhost:8080/"
        },
        "id": "ZKL_bByG8SFF",
        "outputId": "a3283899-a1f7-4401-8fc6-33d36000d6da"
      },
      "execution_count": 32,
      "outputs": [
        {
          "output_type": "stream",
          "name": "stdout",
          "text": [
            "Epoch 1/50\n",
            "16/16 [==============================] - 3s 168ms/step - loss: 0.0344 - accuracy: 0.8071\n",
            "Epoch 2/50\n",
            "16/16 [==============================] - 3s 169ms/step - loss: 0.0331 - accuracy: 0.8070\n",
            "Epoch 3/50\n",
            "16/16 [==============================] - 3s 220ms/step - loss: 0.0327 - accuracy: 0.8075\n",
            "Epoch 4/50\n",
            "16/16 [==============================] - 3s 184ms/step - loss: 0.0335 - accuracy: 0.8075\n",
            "Epoch 5/50\n",
            "16/16 [==============================] - 3s 165ms/step - loss: 0.0331 - accuracy: 0.8062\n",
            "Epoch 6/50\n",
            "16/16 [==============================] - 3s 203ms/step - loss: 0.0329 - accuracy: 0.8076\n",
            "Epoch 7/50\n",
            "16/16 [==============================] - 5s 295ms/step - loss: 0.0332 - accuracy: 0.8072\n",
            "Epoch 8/50\n",
            "16/16 [==============================] - 4s 226ms/step - loss: 0.0340 - accuracy: 0.8067\n",
            "Epoch 9/50\n",
            "16/16 [==============================] - 3s 210ms/step - loss: 0.0334 - accuracy: 0.8070\n",
            "Epoch 10/50\n",
            "16/16 [==============================] - 5s 295ms/step - loss: 0.0326 - accuracy: 0.8066\n",
            "Epoch 11/50\n",
            "16/16 [==============================] - 4s 229ms/step - loss: 0.0321 - accuracy: 0.8080\n",
            "Epoch 12/50\n",
            "16/16 [==============================] - 3s 176ms/step - loss: 0.0325 - accuracy: 0.8071\n",
            "Epoch 13/50\n",
            "16/16 [==============================] - 3s 192ms/step - loss: 0.0320 - accuracy: 0.8082\n",
            "Epoch 14/50\n",
            "16/16 [==============================] - 3s 190ms/step - loss: 0.0323 - accuracy: 0.8075\n",
            "Epoch 15/50\n",
            "16/16 [==============================] - 4s 224ms/step - loss: 0.0312 - accuracy: 0.8080\n",
            "Epoch 16/50\n",
            "16/16 [==============================] - 3s 166ms/step - loss: 0.0325 - accuracy: 0.8075\n",
            "Epoch 17/50\n",
            "16/16 [==============================] - 3s 165ms/step - loss: 0.0325 - accuracy: 0.8076\n",
            "Epoch 18/50\n",
            "16/16 [==============================] - 3s 180ms/step - loss: 0.0334 - accuracy: 0.8066\n",
            "Epoch 19/50\n",
            "16/16 [==============================] - 5s 339ms/step - loss: 0.0326 - accuracy: 0.8073\n",
            "Epoch 20/50\n",
            "16/16 [==============================] - 3s 188ms/step - loss: 0.0325 - accuracy: 0.8074\n",
            "Epoch 21/50\n",
            "16/16 [==============================] - 3s 209ms/step - loss: 0.0330 - accuracy: 0.8069\n",
            "Epoch 22/50\n",
            "16/16 [==============================] - 4s 225ms/step - loss: 0.0322 - accuracy: 0.8073\n",
            "Epoch 23/50\n",
            "16/16 [==============================] - 3s 212ms/step - loss: 0.0330 - accuracy: 0.8070\n",
            "Epoch 24/50\n",
            "16/16 [==============================] - 3s 187ms/step - loss: 0.0317 - accuracy: 0.8077\n",
            "Epoch 25/50\n",
            "16/16 [==============================] - 3s 176ms/step - loss: 0.0322 - accuracy: 0.8071\n",
            "Epoch 26/50\n",
            "16/16 [==============================] - 3s 203ms/step - loss: 0.0314 - accuracy: 0.8083\n",
            "Epoch 27/50\n",
            "16/16 [==============================] - 4s 225ms/step - loss: 0.0315 - accuracy: 0.8079\n",
            "Epoch 28/50\n",
            "16/16 [==============================] - 3s 163ms/step - loss: 0.0308 - accuracy: 0.8080\n",
            "Epoch 29/50\n",
            "16/16 [==============================] - 3s 170ms/step - loss: 0.0319 - accuracy: 0.8079\n",
            "Epoch 30/50\n",
            "16/16 [==============================] - 3s 206ms/step - loss: 0.0315 - accuracy: 0.8075\n",
            "Epoch 31/50\n",
            "16/16 [==============================] - 6s 397ms/step - loss: 0.0318 - accuracy: 0.8077\n",
            "Epoch 32/50\n",
            "16/16 [==============================] - 5s 328ms/step - loss: 0.0320 - accuracy: 0.8074\n",
            "Epoch 33/50\n",
            "16/16 [==============================] - 4s 249ms/step - loss: 0.0314 - accuracy: 0.8079\n",
            "Epoch 34/50\n",
            "16/16 [==============================] - 3s 165ms/step - loss: 0.0301 - accuracy: 0.8087\n",
            "Epoch 35/50\n",
            "16/16 [==============================] - 3s 163ms/step - loss: 0.0315 - accuracy: 0.8076\n",
            "Epoch 36/50\n",
            "16/16 [==============================] - 3s 166ms/step - loss: 0.0309 - accuracy: 0.8078\n",
            "Epoch 37/50\n",
            "16/16 [==============================] - 3s 191ms/step - loss: 0.0311 - accuracy: 0.8079\n",
            "Epoch 38/50\n",
            "16/16 [==============================] - 4s 215ms/step - loss: 0.0317 - accuracy: 0.8077\n",
            "Epoch 39/50\n",
            "16/16 [==============================] - 3s 161ms/step - loss: 0.0309 - accuracy: 0.8079\n",
            "Epoch 40/50\n",
            "16/16 [==============================] - 3s 164ms/step - loss: 0.0307 - accuracy: 0.8083\n",
            "Epoch 41/50\n",
            "16/16 [==============================] - 3s 166ms/step - loss: 0.0300 - accuracy: 0.8086\n",
            "Epoch 42/50\n",
            "16/16 [==============================] - 4s 251ms/step - loss: 0.0311 - accuracy: 0.8077\n",
            "Epoch 43/50\n",
            "16/16 [==============================] - 3s 165ms/step - loss: 0.0314 - accuracy: 0.8079\n",
            "Epoch 44/50\n",
            "16/16 [==============================] - 3s 162ms/step - loss: 0.0317 - accuracy: 0.8073\n",
            "Epoch 45/50\n",
            "16/16 [==============================] - 3s 162ms/step - loss: 0.0308 - accuracy: 0.8082\n",
            "Epoch 46/50\n",
            "16/16 [==============================] - 3s 207ms/step - loss: 0.0310 - accuracy: 0.8081\n",
            "Epoch 47/50\n",
            "16/16 [==============================] - 4s 242ms/step - loss: 0.0311 - accuracy: 0.8074\n",
            "Epoch 48/50\n",
            "16/16 [==============================] - 3s 162ms/step - loss: 0.0303 - accuracy: 0.8086\n",
            "Epoch 49/50\n",
            "16/16 [==============================] - 3s 163ms/step - loss: 0.0307 - accuracy: 0.8082\n",
            "Epoch 50/50\n",
            "16/16 [==============================] - 3s 176ms/step - loss: 0.0305 - accuracy: 0.8082\n"
          ]
        }
      ]
    },
    {
      "cell_type": "code",
      "source": [
        "# Summarize our network\n",
        "autoencoder.summary()"
      ],
      "metadata": {
        "colab": {
          "base_uri": "https://localhost:8080/"
        },
        "id": "QlDZPScR8LNG",
        "outputId": "5dbcdcbf-20d5-46b0-e7fb-3c8bc91c1be5"
      },
      "execution_count": 33,
      "outputs": [
        {
          "output_type": "stream",
          "name": "stdout",
          "text": [
            "Model: \"autoencoder\"\n",
            "_________________________________________________________________\n",
            " Layer (type)                Output Shape              Param #   \n",
            "=================================================================\n",
            " encoder_input (InputLayer)  [(None, 28, 28, 1)]       0         \n",
            "                                                                 \n",
            " encoder (Functional)        (None, 2)                 99842     \n",
            "                                                                 \n",
            " decoder (Functional)        (None, 28, 28, 1)         121537    \n",
            "                                                                 \n",
            "=================================================================\n",
            "Total params: 221,379\n",
            "Trainable params: 220,547\n",
            "Non-trainable params: 832\n",
            "_________________________________________________________________\n"
          ]
        }
      ]
    },
    {
      "cell_type": "code",
      "source": [
        "# Look at the history\n",
        "import matplotlib.pyplot as plt\n",
        "plt.figure()\n",
        "plt.plot(history.history['accuracy'])\n",
        "plt.xlabel('# epochs')\n",
        "plt.ylabel('Accuracy in Train Set')\n"
      ],
      "metadata": {
        "colab": {
          "base_uri": "https://localhost:8080/",
          "height": 296
        },
        "id": "22od8itRYOrg",
        "outputId": "14c8ed9c-0b89-41bd-b1dc-9e9037c7b4a9"
      },
      "execution_count": 34,
      "outputs": [
        {
          "output_type": "execute_result",
          "data": {
            "text/plain": [
              "Text(0, 0.5, 'Accuracy in Train Set')"
            ]
          },
          "metadata": {},
          "execution_count": 34
        },
        {
          "output_type": "display_data",
          "data": {
            "text/plain": [
              "<Figure size 432x288 with 1 Axes>"
            ],
            "image/png": "[encoded data removed]"
          },
          "metadata": {
            "needs_background": "light"
          }
        }
      ]
    },
    {
      "cell_type": "code",
      "source": [
        "# Increase number of data to train so that we can avoid this fluctuating accuracy profile in the graph\n",
        "history = autoencoder.fit(x_train[:10000], \n",
        "                  x_train[:10000], # we expect to get the output as same as input\n",
        "                  batch_size=32,\n",
        "                  epochs=50)\n",
        "plt.figure()\n",
        "plt.plot(history.history['accuracy'])\n",
        "plt.xlabel('# epochs')\n",
        "plt.ylabel('Accuracy in Train Set')"
      ],
      "metadata": {
        "colab": {
          "base_uri": "https://localhost:8080/",
          "height": 1000
        },
        "id": "jXhtidV6Y08e",
        "outputId": "4c396f1c-af97-4756-f395-6f30299d477a"
      },
      "execution_count": 35,
      "outputs": [
        {
          "output_type": "stream",
          "name": "stdout",
          "text": [
            "Epoch 1/50\n",
            "313/313 [==============================] - 57s 183ms/step - loss: 0.0473 - accuracy: 0.7948\n",
            "Epoch 2/50\n",
            "313/313 [==============================] - 58s 185ms/step - loss: 0.0452 - accuracy: 0.7960\n",
            "Epoch 3/50\n",
            "313/313 [==============================] - 57s 181ms/step - loss: 0.0445 - accuracy: 0.7964\n",
            "Epoch 4/50\n",
            "313/313 [==============================] - 56s 178ms/step - loss: 0.0438 - accuracy: 0.7967\n",
            "Epoch 5/50\n",
            "313/313 [==============================] - 56s 178ms/step - loss: 0.0436 - accuracy: 0.7968\n",
            "Epoch 6/50\n",
            "313/313 [==============================] - 56s 179ms/step - loss: 0.0432 - accuracy: 0.7969\n",
            "Epoch 7/50\n",
            "313/313 [==============================] - 56s 179ms/step - loss: 0.0427 - accuracy: 0.7971\n",
            "Epoch 8/50\n",
            "313/313 [==============================] - 56s 178ms/step - loss: 0.0424 - accuracy: 0.7972\n",
            "Epoch 9/50\n",
            "313/313 [==============================] - 57s 182ms/step - loss: 0.0423 - accuracy: 0.7972\n",
            "Epoch 10/50\n",
            "313/313 [==============================] - 56s 180ms/step - loss: 0.0418 - accuracy: 0.7974\n",
            "Epoch 11/50\n",
            "313/313 [==============================] - 56s 179ms/step - loss: 0.0416 - accuracy: 0.7976\n",
            "Epoch 12/50\n",
            "313/313 [==============================] - 57s 183ms/step - loss: 0.0412 - accuracy: 0.7978\n",
            "Epoch 13/50\n",
            "313/313 [==============================] - 56s 178ms/step - loss: 0.0409 - accuracy: 0.7980\n",
            "Epoch 14/50\n",
            "313/313 [==============================] - 55s 177ms/step - loss: 0.0408 - accuracy: 0.7980\n",
            "Epoch 15/50\n",
            "313/313 [==============================] - 57s 183ms/step - loss: 0.0405 - accuracy: 0.7982\n",
            "Epoch 16/50\n",
            "313/313 [==============================] - 56s 178ms/step - loss: 0.0405 - accuracy: 0.7981\n",
            "Epoch 17/50\n",
            "313/313 [==============================] - 56s 178ms/step - loss: 0.0402 - accuracy: 0.7983\n",
            "Epoch 18/50\n",
            "313/313 [==============================] - 57s 182ms/step - loss: 0.0398 - accuracy: 0.7986\n",
            "Epoch 19/50\n",
            "313/313 [==============================] - 56s 178ms/step - loss: 0.0397 - accuracy: 0.7985\n",
            "Epoch 20/50\n",
            "313/313 [==============================] - 56s 178ms/step - loss: 0.0394 - accuracy: 0.7987\n",
            "Epoch 21/50\n",
            "313/313 [==============================] - 56s 180ms/step - loss: 0.0393 - accuracy: 0.7987\n",
            "Epoch 22/50\n",
            "313/313 [==============================] - 56s 178ms/step - loss: 0.0390 - accuracy: 0.7988\n",
            "Epoch 23/50\n",
            "313/313 [==============================] - 56s 178ms/step - loss: 0.0389 - accuracy: 0.7990\n",
            "Epoch 24/50\n",
            "313/313 [==============================] - 57s 182ms/step - loss: 0.0387 - accuracy: 0.7991\n",
            "Epoch 25/50\n",
            "313/313 [==============================] - 56s 178ms/step - loss: 0.0386 - accuracy: 0.7991\n",
            "Epoch 26/50\n",
            "313/313 [==============================] - 56s 179ms/step - loss: 0.0384 - accuracy: 0.7993\n",
            "Epoch 27/50\n",
            "313/313 [==============================] - 57s 181ms/step - loss: 0.0383 - accuracy: 0.7993\n",
            "Epoch 28/50\n",
            "313/313 [==============================] - 56s 178ms/step - loss: 0.0382 - accuracy: 0.7993\n",
            "Epoch 29/50\n",
            "313/313 [==============================] - 56s 179ms/step - loss: 0.0380 - accuracy: 0.7994\n",
            "Epoch 30/50\n",
            "313/313 [==============================] - 57s 180ms/step - loss: 0.0378 - accuracy: 0.7995\n",
            "Epoch 31/50\n",
            "313/313 [==============================] - 56s 179ms/step - loss: 0.0377 - accuracy: 0.7996\n",
            "Epoch 32/50\n",
            "313/313 [==============================] - 58s 185ms/step - loss: 0.0375 - accuracy: 0.7997\n",
            "Epoch 33/50\n",
            "313/313 [==============================] - 56s 180ms/step - loss: 0.0374 - accuracy: 0.7998\n",
            "Epoch 34/50\n",
            "313/313 [==============================] - 56s 178ms/step - loss: 0.0373 - accuracy: 0.7998\n",
            "Epoch 35/50\n",
            "313/313 [==============================] - 57s 183ms/step - loss: 0.0372 - accuracy: 0.7999\n",
            "Epoch 36/50\n",
            "313/313 [==============================] - 56s 179ms/step - loss: 0.0372 - accuracy: 0.7999\n",
            "Epoch 37/50\n",
            "313/313 [==============================] - 55s 177ms/step - loss: 0.0371 - accuracy: 0.7999\n",
            "Epoch 38/50\n",
            "313/313 [==============================] - 57s 182ms/step - loss: 0.0369 - accuracy: 0.8001\n",
            "Epoch 39/50\n",
            "313/313 [==============================] - 55s 177ms/step - loss: 0.0369 - accuracy: 0.8001\n",
            "Epoch 40/50\n",
            "313/313 [==============================] - 56s 178ms/step - loss: 0.0367 - accuracy: 0.8002\n",
            "Epoch 41/50\n",
            "313/313 [==============================] - 57s 183ms/step - loss: 0.0366 - accuracy: 0.8002\n",
            "Epoch 42/50\n",
            "313/313 [==============================] - 57s 181ms/step - loss: 0.0365 - accuracy: 0.8003\n",
            "Epoch 43/50\n",
            "313/313 [==============================] - 58s 185ms/step - loss: 0.0366 - accuracy: 0.8003\n",
            "Epoch 44/50\n",
            "313/313 [==============================] - 56s 180ms/step - loss: 0.0363 - accuracy: 0.8004\n",
            "Epoch 45/50\n",
            "313/313 [==============================] - 57s 181ms/step - loss: 0.0362 - accuracy: 0.8005\n",
            "Epoch 46/50\n",
            "313/313 [==============================] - 58s 186ms/step - loss: 0.0361 - accuracy: 0.8005\n",
            "Epoch 47/50\n",
            "313/313 [==============================] - 57s 181ms/step - loss: 0.0361 - accuracy: 0.8006\n",
            "Epoch 48/50\n",
            "313/313 [==============================] - 65s 207ms/step - loss: 0.0359 - accuracy: 0.8005\n",
            "Epoch 49/50\n",
            "313/313 [==============================] - 56s 180ms/step - loss: 0.0358 - accuracy: 0.8007\n",
            "Epoch 50/50\n",
            "313/313 [==============================] - 58s 186ms/step - loss: 0.0359 - accuracy: 0.8007\n"
          ]
        },
        {
          "output_type": "execute_result",
          "data": {
            "text/plain": [
              "Text(0, 0.5, 'Accuracy in Train Set')"
            ]
          },
          "metadata": {},
          "execution_count": 35
        },
        {
          "output_type": "display_data",
          "data": {
            "text/plain": [
              "<Figure size 432x288 with 1 Axes>"
            ],
            "image/png": "[encoded data removed]"
          },
          "metadata": {
            "needs_background": "light"
          }
        }
      ]
    }
  ]
}