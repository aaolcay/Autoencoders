{
  "nbformat": 4,
  "nbformat_minor": 0,
  "metadata": {
    "colab": {
      "provenance": [],
      "authorship_tag": "ABX9TyMMB3tB1QKurLq8NTX3g0aS",
      "include_colab_link": true
    },
    "kernelspec": {
      "name": "python3",
      "display_name": "Python 3"
    },
    "language_info": {
      "name": "python"
    }
  },
  "cells": [
    {
      "cell_type": "markdown",
      "metadata": {
        "id": "view-in-github",
        "colab_type": "text"
      },
      "source": [
        "<a href=\"https://colab.research.google.com/github/aaolcay/Autoencoders/blob/main/autoencoder_updated.ipynb\" target=\"_parent\"><img src=\"https://colab.research.google.com/assets/colab-badge.svg\" alt=\"Open In Colab\"/></a>"
      ]
    },
    {
      "cell_type": "markdown",
      "source": [
        "## **Author**\n",
        "*The code was written by Abdullah Olcay (University of Southampton). If you want to copy or share the code, please refer to me!*\n",
        "\n",
        "*The autoencoder architecture was constituted as similar to Valerio Velardo's work (you can access his YouTube channel `@ValerioVelardoTheSoundofAI`). This is because of a need for detailed comparison of our model's output. The author highly recommends you to follow his lectures if you are interested in artificial intelligence on audio/sound.*\n",
        "\n",
        "\n",
        "\n",
        "*For more information contact me:* \n",
        "*olcayazzam@gmail.com*\n",
        "\n",
        "---\n",
        "\n"
      ],
      "metadata": {
        "id": "HbH8_3MonIQ8"
      }
    },
    {
      "cell_type": "markdown",
      "source": [
        "## **Load Data**\n",
        "The data used in the autoencoder implementation is taken from `tensorflow`. That is `mnist` including images of numbers."
      ],
      "metadata": {
        "id": "DV0lM4jvTKsE"
      }
    },
    {
      "cell_type": "code",
      "source": [
        "# Load Data\n",
        "from tensorflow.keras.datasets import mnist\n",
        "import numpy as np\n",
        "\n",
        "(x_train, y_train), (x_test, y_test) = mnist.load_data()\n",
        "x_train = x_train.astype('float32')/255\n",
        "x_train = x_train[..., np.newaxis]\n",
        "print(x_train.shape)"
      ],
      "metadata": {
        "colab": {
          "base_uri": "https://localhost:8080/"
        },
        "id": "Fc3DI_GOTg-T",
        "outputId": "ac2a1fd3-3b72-4341-dbe6-f992e3455271"
      },
      "execution_count": 16,
      "outputs": [
        {
          "output_type": "stream",
          "name": "stdout",
          "text": [
            "(60000, 28, 28, 1)\n"
          ]
        }
      ]
    },
    {
      "cell_type": "markdown",
      "source": [
        "## **Autoencoders**\n",
        "This python script contains an implementation of a basic autoencoders with convolutional layers `(conv2D)`. Autoencoders include three main stages:\n",
        "1. **Encoder**: 4 layers with conv2D + ReLU + BatchNormalization\n",
        "2. **Bottleneck**: Flatten + Dense\n",
        "3. **Decoder**: 4 layers with conv2D + ReLU + BatchNormalization\n",
        "\n",
        "Note: In this application, **Keras functional API** is used. \n",
        "Definition: The Keras functional API is the way to go for defining complex models, such as multi-output models, directed acyclic graphs, or models with shared layers."
      ],
      "metadata": {
        "id": "U2I-ezJo-nVP"
      }
    },
    {
      "cell_type": "code",
      "execution_count": 17,
      "metadata": {
        "id": "nqol3EJI-Zdg"
      },
      "outputs": [],
      "source": [
        "import tensorflow.keras as keras\n",
        "import numpy as np\n",
        "from keras import backend"
      ]
    },
    {
      "cell_type": "code",
      "source": [
        "# Assign input shape as a tuple \n",
        "# input_shape = (x_train.shape[1],x_train.shape[2])\n",
        "input_shape = (x_train.shape[1],x_train.shape[2],1)"
      ],
      "metadata": {
        "id": "icPT_mpkANdC"
      },
      "execution_count": 18,
      "outputs": []
    },
    {
      "cell_type": "markdown",
      "source": [
        "### **Encoder**"
      ],
      "metadata": {
        "id": "YB9RiSERFowz"
      }
    },
    {
      "cell_type": "code",
      "source": [
        "# 1. Encoder\n",
        "encoder_input_layer = keras.layers.Input(shape=input_shape, name='encoder_input')\n",
        "conv_layer_1 = keras.layers.Conv2D(filters=32, \n",
        "                                   kernel_size=(3,3),\n",
        "                                   strides= (1,1),\n",
        "                                   padding='same',\n",
        "                                   name='encoder_conv_layer_1')\n",
        "conv_layer_1 = conv_layer_1(encoder_input_layer)\n",
        "conv_layer_1 = keras.layers.ReLU(name='encoder_relu_1')(conv_layer_1)\n",
        "conv_layer_1 = keras.layers.BatchNormalization(name='encoder_bn_1')(conv_layer_1)\n",
        "\n",
        "conv_layer_2 = keras.layers.Conv2D(filters=64, \n",
        "                                   kernel_size=(3,3),\n",
        "                                   strides= (2,2),\n",
        "                                   padding='same',\n",
        "                                   name='encoder_conv_layer_2') \n",
        "conv_layer_2 = conv_layer_2(conv_layer_1)\n",
        "conv_layer_2 = keras.layers.ReLU(name='encoder_relu_2')(conv_layer_2)\n",
        "conv_layer_2 = keras.layers.BatchNormalization(name='encoder_bn_2')(conv_layer_2)\n",
        "\n",
        "conv_layer_3 = keras.layers.Conv2D(filters=64, \n",
        "                                   kernel_size=(3,3),\n",
        "                                   strides= (2,2),\n",
        "                                   padding='same',\n",
        "                                   name='encoder_conv_layer_3') \n",
        "conv_layer_3 = conv_layer_3(conv_layer_2)\n",
        "conv_layer_3 = keras.layers.ReLU(name='encoder_relu_3')(conv_layer_3)\n",
        "conv_layer_3 = keras.layers.BatchNormalization(name='encoder_bn_3')(conv_layer_3)\n",
        "\n",
        "conv_layer_4 = keras.layers.Conv2D(filters=64, \n",
        "                                   kernel_size=(3,3),\n",
        "                                   strides= (1,1),\n",
        "                                   padding='same',\n",
        "                                   name='encoder_conv_layer_4') \n",
        "conv_layer_4 = conv_layer_4(conv_layer_3)\n",
        "conv_layer_4 = keras.layers.ReLU(name='encoder_relu_4')(conv_layer_4)\n",
        "conv_layer_4 = keras.layers.BatchNormalization(name='encoder_bn_4')(conv_layer_4)\n",
        "model_encoder = conv_layer_4"
      ],
      "metadata": {
        "id": "3G1Yf1WF_4bE"
      },
      "execution_count": 19,
      "outputs": []
    },
    {
      "cell_type": "markdown",
      "source": [
        "### **Bottleneck**"
      ],
      "metadata": {
        "id": "1yZzLEmNyIwG"
      }
    },
    {
      "cell_type": "code",
      "source": [
        "# 2. Bottleneck\n",
        "latent_space_dim = 2\n",
        "bottleneck = keras.layers.Flatten()(model_encoder)\n",
        "bottleneck = keras.layers.Dense(latent_space_dim, name='encoder_output')(bottleneck)"
      ],
      "metadata": {
        "id": "XvcWi2Q6AZg6"
      },
      "execution_count": 20,
      "outputs": []
    },
    {
      "cell_type": "code",
      "source": [
        "# Make this network a model\n",
        "encoder = keras.Model(encoder_input_layer,bottleneck, name='encoder')\n",
        "#encoder.summary()"
      ],
      "metadata": {
        "id": "1vGq1pzZE55Y"
      },
      "execution_count": 21,
      "outputs": []
    },
    {
      "cell_type": "markdown",
      "source": [
        "### **Decoder**"
      ],
      "metadata": {
        "id": "TnDP0zwhyL1s"
      }
    },
    {
      "cell_type": "code",
      "source": [
        "# 3. Decoder\n",
        "\n",
        "# The input, which is latent space (bottleneck), of decoder\n",
        "decoder_input_layer = keras.layers.Input(shape=latent_space_dim, name='decoder_input')\n",
        "\n",
        "# Build a dense layer as we need to mirror our encoder, this dense will hold all the output\n",
        "# of encoder in 1D vector\n",
        "shape_last_en = conv_layer_4.shape[1:] # take the shape of the latest layer in encoder: [7, 7, 64]\n",
        "num_neurons = np.prod(shape_last_en) # 7 x 7 x 64 = 3136\n",
        "decoder_dense_layer = keras.layers.Dense(num_neurons, name= 'decoder_dense_layer')(decoder_input_layer)\n",
        "\n",
        "# Thus, dense layer flatten our output from the encoder, we need to reshape it\n",
        "decoder_reshape_layer = keras.layers.Reshape(shape_last_en)(decoder_dense_layer)\n",
        "\n",
        "# Decoder Convolutional Layers (Mirror of Encoder)\n",
        "# Therefore, we also use convolutional transpose\n",
        "dec_conv_layer_1 = keras.layers.Conv2DTranspose(filters=64, \n",
        "                                   kernel_size=(3,3),\n",
        "                                   strides= (1,1),\n",
        "                                   padding='same',\n",
        "                                   name='decoder_conv_layer_1')\n",
        "dec_conv_layer_1 = dec_conv_layer_1(decoder_reshape_layer)\n",
        "dec_conv_layer_1 = keras.layers.ReLU(name='decoder_relu_1')(dec_conv_layer_1)\n",
        "dec_conv_layer_1 = keras.layers.BatchNormalization(name='decoder_bn_1')(dec_conv_layer_1)\n",
        "\n",
        "dec_conv_layer_2 = keras.layers.Conv2DTranspose(filters=64, \n",
        "                                   kernel_size=(3,3),\n",
        "                                   strides= (2,2),\n",
        "                                   padding='same',\n",
        "                                   name='decoder_conv_layer_2') \n",
        "dec_conv_layer_2 = dec_conv_layer_2(dec_conv_layer_1)\n",
        "dec_conv_layer_2 = keras.layers.ReLU(name='decoder_relu_2')(dec_conv_layer_2)\n",
        "dec_conv_layer_2 = keras.layers.BatchNormalization(name='decoder_bn_2')(dec_conv_layer_2)\n",
        "\n",
        "dec_conv_layer_3 = keras.layers.Conv2DTranspose(filters=64, \n",
        "                                   kernel_size=(3,3),\n",
        "                                   strides= (2,2),\n",
        "                                   padding='same',\n",
        "                                   name='decoder_conv_layer_3') \n",
        "dec_conv_layer_3 = dec_conv_layer_3(dec_conv_layer_2)\n",
        "dec_conv_layer_3 = keras.layers.ReLU(name='decoder_relu_3')(dec_conv_layer_3)\n",
        "dec_conv_layer_3 = keras.layers.BatchNormalization(name='decoder_bn_3')(dec_conv_layer_3)\n",
        "\n",
        "# Output layer of decoder (we had 4 convolutional layers in encoder, and so \n",
        "# the latest layer of decoder corresponds to the the fourth layer in encoder)\n",
        "dec_conv_layer_4 = keras.layers.Conv2DTranspose(filters=1, # as images have 1 channel  \n",
        "                                   kernel_size=(3,3),\n",
        "                                   strides= (1,1),\n",
        "                                   padding='same',\n",
        "                                   name='decoder_conv_layer_4')\n",
        "dec_conv_layer_4 = dec_conv_layer_4(dec_conv_layer_3)\n",
        "decoder_output_layer = keras.layers.Activation('sigmoid', name=\"sigmoid_layer\")(dec_conv_layer_4)"
      ],
      "metadata": {
        "id": "Of8x2QVnAbyi"
      },
      "execution_count": 22,
      "outputs": []
    },
    {
      "cell_type": "code",
      "source": [
        "# Make this network a model\n",
        "decoder = keras.Model(decoder_input_layer,decoder_output_layer, name='decoder')"
      ],
      "metadata": {
        "id": "a5MNQg8ix5we"
      },
      "execution_count": 23,
      "outputs": []
    },
    {
      "cell_type": "markdown",
      "source": [
        "### **Autoencoder (Combining encoder and decoder parts)**\n",
        "To build autoencoder, we need to combine both encoder and decoder parts."
      ],
      "metadata": {
        "id": "HAIIS8Amv8d4"
      }
    },
    {
      "cell_type": "code",
      "source": [
        "# Autoencoder\n",
        "# autoencoder's input is the same as the input of encoder\n",
        "autoencoder_input = encoder_input_layer\n",
        "# autoencoder's output is the output of decoder that takes encoder with encoder input\n",
        "autoencoder_output = decoder(encoder(encoder_input_layer))\n",
        "autoencoder = keras.Model(autoencoder_input, autoencoder_output, name='autoencoder')"
      ],
      "metadata": {
        "id": "JE3ZHzn-wH8P"
      },
      "execution_count": 24,
      "outputs": []
    },
    {
      "cell_type": "code",
      "source": [
        "encoder.summary()\n",
        "decoder.summary()\n",
        "autoencoder.summary()"
      ],
      "metadata": {
        "colab": {
          "base_uri": "https://localhost:8080/"
        },
        "id": "UKME899xyPOr",
        "outputId": "9bfae373-39ba-41b7-9d36-6d9ef1a15a53"
      },
      "execution_count": 25,
      "outputs": [
        {
          "output_type": "stream",
          "name": "stdout",
          "text": [
            "Model: \"encoder\"\n",
            "_________________________________________________________________\n",
            " Layer (type)                Output Shape              Param #   \n",
            "=================================================================\n",
            " encoder_input (InputLayer)  [(None, 28, 28, 1)]       0         \n",
            "                                                                 \n",
            " encoder_conv_layer_1 (Conv2  (None, 28, 28, 32)       320       \n",
            " D)                                                              \n",
            "                                                                 \n",
            " encoder_relu_1 (ReLU)       (None, 28, 28, 32)        0         \n",
            "                                                                 \n",
            " encoder_bn_1 (BatchNormaliz  (None, 28, 28, 32)       128       \n",
            " ation)                                                          \n",
            "                                                                 \n",
            " encoder_conv_layer_2 (Conv2  (None, 14, 14, 64)       18496     \n",
            " D)                                                              \n",
            "                                                                 \n",
            " encoder_relu_2 (ReLU)       (None, 14, 14, 64)        0         \n",
            "                                                                 \n",
            " encoder_bn_2 (BatchNormaliz  (None, 14, 14, 64)       256       \n",
            " ation)                                                          \n",
            "                                                                 \n",
            " encoder_conv_layer_3 (Conv2  (None, 7, 7, 64)         36928     \n",
            " D)                                                              \n",
            "                                                                 \n",
            " encoder_relu_3 (ReLU)       (None, 7, 7, 64)          0         \n",
            "                                                                 \n",
            " encoder_bn_3 (BatchNormaliz  (None, 7, 7, 64)         256       \n",
            " ation)                                                          \n",
            "                                                                 \n",
            " encoder_conv_layer_4 (Conv2  (None, 7, 7, 64)         36928     \n",
            " D)                                                              \n",
            "                                                                 \n",
            " encoder_relu_4 (ReLU)       (None, 7, 7, 64)          0         \n",
            "                                                                 \n",
            " encoder_bn_4 (BatchNormaliz  (None, 7, 7, 64)         256       \n",
            " ation)                                                          \n",
            "                                                                 \n",
            " flatten_1 (Flatten)         (None, 3136)              0         \n",
            "                                                                 \n",
            " encoder_output (Dense)      (None, 2)                 6274      \n",
            "                                                                 \n",
            "=================================================================\n",
            "Total params: 99,842\n",
            "Trainable params: 99,394\n",
            "Non-trainable params: 448\n",
            "_________________________________________________________________\n",
            "Model: \"decoder\"\n",
            "_________________________________________________________________\n",
            " Layer (type)                Output Shape              Param #   \n",
            "=================================================================\n",
            " decoder_input (InputLayer)  [(None, 2)]               0         \n",
            "                                                                 \n",
            " decoder_dense_layer (Dense)  (None, 3136)             9408      \n",
            "                                                                 \n",
            " reshape_1 (Reshape)         (None, 7, 7, 64)          0         \n",
            "                                                                 \n",
            " decoder_conv_layer_1 (Conv2  (None, 7, 7, 64)         36928     \n",
            " DTranspose)                                                     \n",
            "                                                                 \n",
            " decoder_relu_1 (ReLU)       (None, 7, 7, 64)          0         \n",
            "                                                                 \n",
            " decoder_bn_1 (BatchNormaliz  (None, 7, 7, 64)         256       \n",
            " ation)                                                          \n",
            "                                                                 \n",
            " decoder_conv_layer_2 (Conv2  (None, 14, 14, 64)       36928     \n",
            " DTranspose)                                                     \n",
            "                                                                 \n",
            " decoder_relu_2 (ReLU)       (None, 14, 14, 64)        0         \n",
            "                                                                 \n",
            " decoder_bn_2 (BatchNormaliz  (None, 14, 14, 64)       256       \n",
            " ation)                                                          \n",
            "                                                                 \n",
            " decoder_conv_layer_3 (Conv2  (None, 28, 28, 64)       36928     \n",
            " DTranspose)                                                     \n",
            "                                                                 \n",
            " decoder_relu_3 (ReLU)       (None, 28, 28, 64)        0         \n",
            "                                                                 \n",
            " decoder_bn_3 (BatchNormaliz  (None, 28, 28, 64)       256       \n",
            " ation)                                                          \n",
            "                                                                 \n",
            " decoder_conv_layer_4 (Conv2  (None, 28, 28, 1)        577       \n",
            " DTranspose)                                                     \n",
            "                                                                 \n",
            " sigmoid_layer (Activation)  (None, 28, 28, 1)         0         \n",
            "                                                                 \n",
            "=================================================================\n",
            "Total params: 121,537\n",
            "Trainable params: 121,153\n",
            "Non-trainable params: 384\n",
            "_________________________________________________________________\n",
            "Model: \"autoencoder\"\n",
            "_________________________________________________________________\n",
            " Layer (type)                Output Shape              Param #   \n",
            "=================================================================\n",
            " encoder_input (InputLayer)  [(None, 28, 28, 1)]       0         \n",
            "                                                                 \n",
            " encoder (Functional)        (None, 2)                 99842     \n",
            "                                                                 \n",
            " decoder (Functional)        (None, 28, 28, 1)         121537    \n",
            "                                                                 \n",
            "=================================================================\n",
            "Total params: 221,379\n",
            "Trainable params: 220,547\n",
            "Non-trainable params: 832\n",
            "_________________________________________________________________\n"
          ]
        }
      ]
    },
    {
      "cell_type": "markdown",
      "source": [
        "#### **Compile Autoencoder Model**\n",
        "We chose `Adam` optimizer and `MeanSquaredError` as loss function"
      ],
      "metadata": {
        "id": "a6MQN8_Lz6XU"
      }
    },
    {
      "cell_type": "code",
      "source": [
        "# Compile network (Adam optimizer with learning rate 0.0005)\n",
        "optimizer = keras.optimizers.Adam(learning_rate=0.0005)\n",
        "mse_loss = keras.losses.MeanSquaredError()\n",
        "autoencoder.compile(optimizer=optimizer, loss=mse_loss, metrics=['accuracy'])"
      ],
      "metadata": {
        "id": "sMAx6ezp0AgD"
      },
      "execution_count": 26,
      "outputs": []
    },
    {
      "cell_type": "markdown",
      "source": [
        "#### **Train Autoencoder Model**\n",
        "The data chose in directly taken from **Kaggle** `mnist` file that includes bunch of images.\n",
        "The batch size was chosen, to mitigate possibility of overfitting, as "
      ],
      "metadata": {
        "id": "1hx0hTpj0wIH"
      }
    },
    {
      "cell_type": "code",
      "source": [
        "# Train network\n",
        "# We did not use shuffle=True in training as mnist data consists of labels randomly (i.e., it is not like labels = [0,1,2,3...], it is something like label = [1, 3, 2, 4, 1, 0, 7, ...])\n",
        "history = autoencoder.fit(x_train[:500], \n",
        "                  x_train[:500], # we expect to get the output as same as input\n",
        "                  batch_size=32,\n",
        "                  epochs=50)"
      ],
      "metadata": {
        "colab": {
          "base_uri": "https://localhost:8080/"
        },
        "id": "ZKL_bByG8SFF",
        "outputId": "eaaafcb0-f586-4ee2-f638-4d897c357280"
      },
      "execution_count": 27,
      "outputs": [
        {
          "output_type": "stream",
          "name": "stdout",
          "text": [
            "Epoch 1/50\n",
            "16/16 [==============================] - 4s 117ms/step - loss: 0.1943 - accuracy: 0.6221\n",
            "Epoch 2/50\n",
            "16/16 [==============================] - 2s 115ms/step - loss: 0.1165 - accuracy: 0.7496\n",
            "Epoch 3/50\n",
            "16/16 [==============================] - 3s 164ms/step - loss: 0.0940 - accuracy: 0.7700\n",
            "Epoch 4/50\n",
            "16/16 [==============================] - 2s 116ms/step - loss: 0.0849 - accuracy: 0.7770\n",
            "Epoch 5/50\n",
            "16/16 [==============================] - 2s 111ms/step - loss: 0.0794 - accuracy: 0.7804\n",
            "Epoch 6/50\n",
            "16/16 [==============================] - 2s 112ms/step - loss: 0.0770 - accuracy: 0.7838\n",
            "Epoch 7/50\n",
            "16/16 [==============================] - 2s 115ms/step - loss: 0.0732 - accuracy: 0.7853\n",
            "Epoch 8/50\n",
            "16/16 [==============================] - 2s 117ms/step - loss: 0.0702 - accuracy: 0.7877\n",
            "Epoch 9/50\n",
            "16/16 [==============================] - 3s 165ms/step - loss: 0.0680 - accuracy: 0.7880\n",
            "Epoch 10/50\n",
            "16/16 [==============================] - 2s 119ms/step - loss: 0.0667 - accuracy: 0.7904\n",
            "Epoch 11/50\n",
            "16/16 [==============================] - 2s 118ms/step - loss: 0.0651 - accuracy: 0.7904\n",
            "Epoch 12/50\n",
            "16/16 [==============================] - 2s 113ms/step - loss: 0.0639 - accuracy: 0.7917\n",
            "Epoch 13/50\n",
            "16/16 [==============================] - 2s 116ms/step - loss: 0.0624 - accuracy: 0.7923\n",
            "Epoch 14/50\n",
            "16/16 [==============================] - 2s 114ms/step - loss: 0.0619 - accuracy: 0.7910\n",
            "Epoch 15/50\n",
            "16/16 [==============================] - 3s 164ms/step - loss: 0.0595 - accuracy: 0.7934\n",
            "Epoch 16/50\n",
            "16/16 [==============================] - 2s 113ms/step - loss: 0.0576 - accuracy: 0.7937\n",
            "Epoch 17/50\n",
            "16/16 [==============================] - 2s 114ms/step - loss: 0.0566 - accuracy: 0.7946\n",
            "Epoch 18/50\n",
            "16/16 [==============================] - 2s 113ms/step - loss: 0.0563 - accuracy: 0.7938\n",
            "Epoch 19/50\n",
            "16/16 [==============================] - 2s 117ms/step - loss: 0.0574 - accuracy: 0.7929\n",
            "Epoch 20/50\n",
            "16/16 [==============================] - 2s 115ms/step - loss: 0.0562 - accuracy: 0.7948\n",
            "Epoch 21/50\n",
            "16/16 [==============================] - 3s 164ms/step - loss: 0.0547 - accuracy: 0.7946\n",
            "Epoch 22/50\n",
            "16/16 [==============================] - 2s 112ms/step - loss: 0.0545 - accuracy: 0.7955\n",
            "Epoch 23/50\n",
            "16/16 [==============================] - 2s 114ms/step - loss: 0.0542 - accuracy: 0.7953\n",
            "Epoch 24/50\n",
            "16/16 [==============================] - 2s 113ms/step - loss: 0.0541 - accuracy: 0.7951\n",
            "Epoch 25/50\n",
            "16/16 [==============================] - 2s 112ms/step - loss: 0.0531 - accuracy: 0.7962\n",
            "Epoch 26/50\n",
            "16/16 [==============================] - 2s 114ms/step - loss: 0.0523 - accuracy: 0.7960\n",
            "Epoch 27/50\n",
            "16/16 [==============================] - 3s 164ms/step - loss: 0.0513 - accuracy: 0.7971\n",
            "Epoch 28/50\n",
            "16/16 [==============================] - 2s 113ms/step - loss: 0.0512 - accuracy: 0.7961\n",
            "Epoch 29/50\n",
            "16/16 [==============================] - 2s 114ms/step - loss: 0.0508 - accuracy: 0.7972\n",
            "Epoch 30/50\n",
            "16/16 [==============================] - 2s 114ms/step - loss: 0.0499 - accuracy: 0.7986\n",
            "Epoch 31/50\n",
            "16/16 [==============================] - 2s 114ms/step - loss: 0.0499 - accuracy: 0.7978\n",
            "Epoch 32/50\n",
            "16/16 [==============================] - 2s 113ms/step - loss: 0.0491 - accuracy: 0.7981\n",
            "Epoch 33/50\n",
            "16/16 [==============================] - 2s 149ms/step - loss: 0.0491 - accuracy: 0.7981\n",
            "Epoch 34/50\n",
            "16/16 [==============================] - 2s 121ms/step - loss: 0.0480 - accuracy: 0.7985\n",
            "Epoch 35/50\n",
            "16/16 [==============================] - 2s 114ms/step - loss: 0.0471 - accuracy: 0.7993\n",
            "Epoch 36/50\n",
            "16/16 [==============================] - 2s 111ms/step - loss: 0.0473 - accuracy: 0.7983\n",
            "Epoch 37/50\n",
            "16/16 [==============================] - 2s 111ms/step - loss: 0.0480 - accuracy: 0.7998\n",
            "Epoch 38/50\n",
            "16/16 [==============================] - 2s 113ms/step - loss: 0.0476 - accuracy: 0.7986\n",
            "Epoch 39/50\n",
            "16/16 [==============================] - 2s 144ms/step - loss: 0.0473 - accuracy: 0.8000\n",
            "Epoch 40/50\n",
            "16/16 [==============================] - 2s 133ms/step - loss: 0.0455 - accuracy: 0.7995\n",
            "Epoch 41/50\n",
            "16/16 [==============================] - 2s 113ms/step - loss: 0.0449 - accuracy: 0.8011\n",
            "Epoch 42/50\n",
            "16/16 [==============================] - 2s 113ms/step - loss: 0.0447 - accuracy: 0.8002\n",
            "Epoch 43/50\n",
            "16/16 [==============================] - 2s 115ms/step - loss: 0.0452 - accuracy: 0.7999\n",
            "Epoch 44/50\n",
            "16/16 [==============================] - 2s 113ms/step - loss: 0.0445 - accuracy: 0.8012\n",
            "Epoch 45/50\n",
            "16/16 [==============================] - 2s 126ms/step - loss: 0.0449 - accuracy: 0.8003\n",
            "Epoch 46/50\n",
            "16/16 [==============================] - 2s 140ms/step - loss: 0.0453 - accuracy: 0.8003\n",
            "Epoch 47/50\n",
            "16/16 [==============================] - 2s 114ms/step - loss: 0.0456 - accuracy: 0.7997\n",
            "Epoch 48/50\n",
            "16/16 [==============================] - 2s 113ms/step - loss: 0.0446 - accuracy: 0.8006\n",
            "Epoch 49/50\n",
            "16/16 [==============================] - 2s 112ms/step - loss: 0.0437 - accuracy: 0.8011\n",
            "Epoch 50/50\n",
            "16/16 [==============================] - 2s 111ms/step - loss: 0.0433 - accuracy: 0.8013\n"
          ]
        }
      ]
    },
    {
      "cell_type": "code",
      "source": [
        "# Summarize our network\n",
        "autoencoder.summary()"
      ],
      "metadata": {
        "colab": {
          "base_uri": "https://localhost:8080/"
        },
        "id": "QlDZPScR8LNG",
        "outputId": "7d0f1103-e61c-4780-8cc7-feccc5c4c2ce"
      },
      "execution_count": 28,
      "outputs": [
        {
          "output_type": "stream",
          "name": "stdout",
          "text": [
            "Model: \"autoencoder\"\n",
            "_________________________________________________________________\n",
            " Layer (type)                Output Shape              Param #   \n",
            "=================================================================\n",
            " encoder_input (InputLayer)  [(None, 28, 28, 1)]       0         \n",
            "                                                                 \n",
            " encoder (Functional)        (None, 2)                 99842     \n",
            "                                                                 \n",
            " decoder (Functional)        (None, 28, 28, 1)         121537    \n",
            "                                                                 \n",
            "=================================================================\n",
            "Total params: 221,379\n",
            "Trainable params: 220,547\n",
            "Non-trainable params: 832\n",
            "_________________________________________________________________\n"
          ]
        }
      ]
    },
    {
      "cell_type": "code",
      "source": [
        "# Look at the history\n",
        "import matplotlib.pyplot as plt\n",
        "plt.figure()\n",
        "plt.plot(history.history['accuracy'])\n",
        "plt.xlabel('# epochs')\n",
        "plt.ylabel('Accuracy in Train Set')\n"
      ],
      "metadata": {
        "colab": {
          "base_uri": "https://localhost:8080/",
          "height": 296
        },
        "id": "22od8itRYOrg",
        "outputId": "5fa6cb1f-2677-405f-f5cb-4b5b9479d9bd"
      },
      "execution_count": 29,
      "outputs": [
        {
          "output_type": "execute_result",
          "data": {
            "text/plain": [
              "Text(0, 0.5, 'Accuracy in Train Set')"
            ]
          },
          "metadata": {},
          "execution_count": 29
        },
        {
          "output_type": "display_data",
          "data": {
            "text/plain": [
              "<Figure size 432x288 with 1 Axes>"
            ],
            "image/png": "[encoded data removed]"
          },
          "metadata": {
            "needs_background": "light"
          }
        }
      ]
    },
    {
      "cell_type": "code",
      "source": [
        "# Increase number of data to train so that we can increase the accuracy value and avoid fluctuating accuracy profile in the graph (if it is)\n",
        "history = autoencoder.fit(x_train[:10000], \n",
        "                  x_train[:10000], # we expect to get the output as same as input\n",
        "                  batch_size=32,\n",
        "                  epochs=50)\n",
        "plt.figure()\n",
        "plt.plot(history.history['accuracy'])\n",
        "plt.xlabel('# epochs')\n",
        "plt.ylabel('Accuracy in Train Set')"
      ],
      "metadata": {
        "colab": {
          "base_uri": "https://localhost:8080/",
          "height": 1000
        },
        "id": "jXhtidV6Y08e",
        "outputId": "693587aa-580b-4bb5-f27b-93417105add8"
      },
      "execution_count": 30,
      "outputs": [
        {
          "output_type": "stream",
          "name": "stdout",
          "text": [
            "Epoch 1/50\n",
            "313/313 [==============================] - 39s 126ms/step - loss: 0.0544 - accuracy: 0.7909\n",
            "Epoch 2/50\n",
            "313/313 [==============================] - 38s 121ms/step - loss: 0.0496 - accuracy: 0.7935\n",
            "Epoch 3/50\n",
            "313/313 [==============================] - 38s 123ms/step - loss: 0.0470 - accuracy: 0.7951\n",
            "Epoch 4/50\n",
            "313/313 [==============================] - 39s 126ms/step - loss: 0.0454 - accuracy: 0.7959\n",
            "Epoch 5/50\n",
            "313/313 [==============================] - 39s 126ms/step - loss: 0.0445 - accuracy: 0.7965\n",
            "Epoch 6/50\n",
            "313/313 [==============================] - 39s 123ms/step - loss: 0.0436 - accuracy: 0.7968\n",
            "Epoch 7/50\n",
            "313/313 [==============================] - 41s 131ms/step - loss: 0.0431 - accuracy: 0.7972\n",
            "Epoch 8/50\n",
            "313/313 [==============================] - 41s 132ms/step - loss: 0.0425 - accuracy: 0.7974\n",
            "Epoch 9/50\n",
            "313/313 [==============================] - 39s 124ms/step - loss: 0.0422 - accuracy: 0.7975\n",
            "Epoch 10/50\n",
            "313/313 [==============================] - 39s 123ms/step - loss: 0.0417 - accuracy: 0.7977\n",
            "Epoch 11/50\n",
            "313/313 [==============================] - 44s 140ms/step - loss: 0.0414 - accuracy: 0.7979\n",
            "Epoch 12/50\n",
            "313/313 [==============================] - 47s 151ms/step - loss: 0.0411 - accuracy: 0.7980\n",
            "Epoch 13/50\n",
            "313/313 [==============================] - 42s 133ms/step - loss: 0.0408 - accuracy: 0.7981\n",
            "Epoch 14/50\n",
            "313/313 [==============================] - 46s 146ms/step - loss: 0.0406 - accuracy: 0.7983\n",
            "Epoch 15/50\n",
            "313/313 [==============================] - 39s 124ms/step - loss: 0.0402 - accuracy: 0.7984\n",
            "Epoch 16/50\n",
            "313/313 [==============================] - 45s 145ms/step - loss: 0.0401 - accuracy: 0.7986\n",
            "Epoch 17/50\n",
            "313/313 [==============================] - 43s 138ms/step - loss: 0.0399 - accuracy: 0.7986\n",
            "Epoch 18/50\n",
            "313/313 [==============================] - 43s 137ms/step - loss: 0.0396 - accuracy: 0.7989\n",
            "Epoch 19/50\n",
            "313/313 [==============================] - 40s 128ms/step - loss: 0.0395 - accuracy: 0.7987\n",
            "Epoch 20/50\n",
            "313/313 [==============================] - 40s 126ms/step - loss: 0.0392 - accuracy: 0.7989\n",
            "Epoch 21/50\n",
            "313/313 [==============================] - 39s 125ms/step - loss: 0.0390 - accuracy: 0.7990\n",
            "Epoch 22/50\n",
            "313/313 [==============================] - 40s 126ms/step - loss: 0.0389 - accuracy: 0.7992\n",
            "Epoch 23/50\n",
            "313/313 [==============================] - 39s 125ms/step - loss: 0.0387 - accuracy: 0.7992\n",
            "Epoch 24/50\n",
            "313/313 [==============================] - 39s 125ms/step - loss: 0.0386 - accuracy: 0.7993\n",
            "Epoch 25/50\n",
            "313/313 [==============================] - 39s 124ms/step - loss: 0.0384 - accuracy: 0.7994\n",
            "Epoch 26/50\n",
            "313/313 [==============================] - 40s 127ms/step - loss: 0.0382 - accuracy: 0.7995\n",
            "Epoch 27/50\n",
            "313/313 [==============================] - 39s 125ms/step - loss: 0.0381 - accuracy: 0.7995\n",
            "Epoch 28/50\n",
            "313/313 [==============================] - 40s 127ms/step - loss: 0.0380 - accuracy: 0.7995\n",
            "Epoch 29/50\n",
            "313/313 [==============================] - 40s 127ms/step - loss: 0.0378 - accuracy: 0.7997\n",
            "Epoch 30/50\n",
            "313/313 [==============================] - 39s 125ms/step - loss: 0.0376 - accuracy: 0.7997\n",
            "Epoch 31/50\n",
            "313/313 [==============================] - 39s 125ms/step - loss: 0.0376 - accuracy: 0.7997\n",
            "Epoch 32/50\n",
            "313/313 [==============================] - 40s 127ms/step - loss: 0.0375 - accuracy: 0.7998\n",
            "Epoch 33/50\n",
            "313/313 [==============================] - 41s 132ms/step - loss: 0.0373 - accuracy: 0.7999\n",
            "Epoch 34/50\n",
            "313/313 [==============================] - 39s 126ms/step - loss: 0.0373 - accuracy: 0.7999\n",
            "Epoch 35/50\n",
            "313/313 [==============================] - 40s 128ms/step - loss: 0.0371 - accuracy: 0.7999\n",
            "Epoch 36/50\n",
            "313/313 [==============================] - 40s 126ms/step - loss: 0.0371 - accuracy: 0.8000\n",
            "Epoch 37/50\n",
            "313/313 [==============================] - 39s 123ms/step - loss: 0.0369 - accuracy: 0.8001\n",
            "Epoch 38/50\n",
            "313/313 [==============================] - 38s 122ms/step - loss: 0.0369 - accuracy: 0.8000\n",
            "Epoch 39/50\n",
            "313/313 [==============================] - 39s 125ms/step - loss: 0.0367 - accuracy: 0.8002\n",
            "Epoch 40/50\n",
            "313/313 [==============================] - 38s 123ms/step - loss: 0.0366 - accuracy: 0.8002\n",
            "Epoch 41/50\n",
            "313/313 [==============================] - 38s 123ms/step - loss: 0.0364 - accuracy: 0.8003\n",
            "Epoch 42/50\n",
            "313/313 [==============================] - 39s 125ms/step - loss: 0.0364 - accuracy: 0.8004\n",
            "Epoch 43/50\n",
            "313/313 [==============================] - 39s 126ms/step - loss: 0.0364 - accuracy: 0.8004\n",
            "Epoch 44/50\n",
            "313/313 [==============================] - 39s 126ms/step - loss: 0.0362 - accuracy: 0.8005\n",
            "Epoch 45/50\n",
            "313/313 [==============================] - 39s 124ms/step - loss: 0.0362 - accuracy: 0.8004\n",
            "Epoch 46/50\n",
            "313/313 [==============================] - 39s 125ms/step - loss: 0.0361 - accuracy: 0.8006\n",
            "Epoch 47/50\n",
            "313/313 [==============================] - 38s 123ms/step - loss: 0.0361 - accuracy: 0.8005\n",
            "Epoch 48/50\n",
            "313/313 [==============================] - 38s 123ms/step - loss: 0.0360 - accuracy: 0.8006\n",
            "Epoch 49/50\n",
            "313/313 [==============================] - 38s 122ms/step - loss: 0.0359 - accuracy: 0.8006\n",
            "Epoch 50/50\n",
            "313/313 [==============================] - 39s 125ms/step - loss: 0.0359 - accuracy: 0.8006\n"
          ]
        },
        {
          "output_type": "execute_result",
          "data": {
            "text/plain": [
              "Text(0, 0.5, 'Accuracy in Train Set')"
            ]
          },
          "metadata": {},
          "execution_count": 30
        },
        {
          "output_type": "display_data",
          "data": {
            "text/plain": [
              "<Figure size 432x288 with 1 Axes>"
            ],
            "image/png": "[encoded data removed]"
          },
          "metadata": {
            "needs_background": "light"
          }
        }
      ]
    },
    {
      "cell_type": "markdown",
      "source": [
        "### **Save Model Built**\n",
        "In order to use a model again in anyway (e.g., in transfer learning for a similar same task), one needs to load a previously built and trained model. Therefore, this model is needed to be saved and prepared for loading in further tasks. The code cell below shows how to save autoencoder model we built along this notebook for generating new images from `mnist` dataset."
      ],
      "metadata": {
        "id": "oAJ3x8eWtywe"
      }
    },
    {
      "cell_type": "code",
      "source": [
        "# model.save('filename.h5')\n",
        "autoencoder.save('olcays_model.h5')"
      ],
      "metadata": {
        "id": "MLBEDCgIOz6h"
      },
      "execution_count": 31,
      "outputs": []
    },
    {
      "cell_type": "markdown",
      "source": [
        "### **Load Model Built**\n",
        "Loading this saved model is easy as long as you know the saving directory of the model."
      ],
      "metadata": {
        "id": "OF7WI4c_vPCc"
      }
    },
    {
      "cell_type": "code",
      "source": [
        "from tensorflow.keras.models import load_model\n",
        "new_model = load_model('olcays_model.h5')"
      ],
      "metadata": {
        "id": "YFAIJRIQu75X"
      },
      "execution_count": 32,
      "outputs": []
    },
    {
      "cell_type": "markdown",
      "source": [
        "Let's check this new_model out whether or not it is the same as that built."
      ],
      "metadata": {
        "id": "r2nXUGpR4gA5"
      }
    },
    {
      "cell_type": "code",
      "source": [
        "new_model.summary()"
      ],
      "metadata": {
        "colab": {
          "base_uri": "https://localhost:8080/"
        },
        "id": "Hta2kH-64pwb",
        "outputId": "3abedca2-acd7-49ca-b3a2-eebbc9985303"
      },
      "execution_count": 33,
      "outputs": [
        {
          "output_type": "stream",
          "name": "stdout",
          "text": [
            "Model: \"autoencoder\"\n",
            "_________________________________________________________________\n",
            " Layer (type)                Output Shape              Param #   \n",
            "=================================================================\n",
            " encoder_input (InputLayer)  [(None, 28, 28, 1)]       0         \n",
            "                                                                 \n",
            " encoder (Functional)        (None, 2)                 99842     \n",
            "                                                                 \n",
            " decoder (Functional)        (None, 28, 28, 1)         121537    \n",
            "                                                                 \n",
            "=================================================================\n",
            "Total params: 221,379\n",
            "Trainable params: 220,547\n",
            "Non-trainable params: 832\n",
            "_________________________________________________________________\n"
          ]
        }
      ]
    },
    {
      "cell_type": "code",
      "source": [
        "a = new_model.get_weights() # list of weights in new_model after backpropagation (i.e., after training)\n",
        "b = autoencoder.get_weights() # list of weights in autoencoder\n",
        "for i in range(len(a)):\n",
        "  c = a[i]\n",
        "  d = b[i] \n",
        "  if c.all() != d.all():\n",
        "    print('These two models weights are not equal')\n",
        "  else:\n",
        "    print(f'Item {i+1}/{len(a)}: All the weights of these two models are equal')"
      ],
      "metadata": {
        "colab": {
          "base_uri": "https://localhost:8080/"
        },
        "id": "KUxZmHji4wu-",
        "outputId": "5959a0b9-28b1-4d7f-b363-b11b98044648"
      },
      "execution_count": 62,
      "outputs": [
        {
          "output_type": "stream",
          "name": "stdout",
          "text": [
            "Item 1/48: All the weights of these two models are equal\n",
            "Item 2/48: All the weights of these two models are equal\n",
            "Item 3/48: All the weights of these two models are equal\n",
            "Item 4/48: All the weights of these two models are equal\n",
            "Item 5/48: All the weights of these two models are equal\n",
            "Item 6/48: All the weights of these two models are equal\n",
            "Item 7/48: All the weights of these two models are equal\n",
            "Item 8/48: All the weights of these two models are equal\n",
            "Item 9/48: All the weights of these two models are equal\n",
            "Item 10/48: All the weights of these two models are equal\n",
            "Item 11/48: All the weights of these two models are equal\n",
            "Item 12/48: All the weights of these two models are equal\n",
            "Item 13/48: All the weights of these two models are equal\n",
            "Item 14/48: All the weights of these two models are equal\n",
            "Item 15/48: All the weights of these two models are equal\n",
            "Item 16/48: All the weights of these two models are equal\n",
            "Item 17/48: All the weights of these two models are equal\n",
            "Item 18/48: All the weights of these two models are equal\n",
            "Item 19/48: All the weights of these two models are equal\n",
            "Item 20/48: All the weights of these two models are equal\n",
            "Item 21/48: All the weights of these two models are equal\n",
            "Item 22/48: All the weights of these two models are equal\n",
            "Item 23/48: All the weights of these two models are equal\n",
            "Item 24/48: All the weights of these two models are equal\n",
            "Item 25/48: All the weights of these two models are equal\n",
            "Item 26/48: All the weights of these two models are equal\n",
            "Item 27/48: All the weights of these two models are equal\n",
            "Item 28/48: All the weights of these two models are equal\n",
            "Item 29/48: All the weights of these two models are equal\n",
            "Item 30/48: All the weights of these two models are equal\n",
            "Item 31/48: All the weights of these two models are equal\n",
            "Item 32/48: All the weights of these two models are equal\n",
            "Item 33/48: All the weights of these two models are equal\n",
            "Item 34/48: All the weights of these two models are equal\n",
            "Item 35/48: All the weights of these two models are equal\n",
            "Item 36/48: All the weights of these two models are equal\n",
            "Item 37/48: All the weights of these two models are equal\n",
            "Item 38/48: All the weights of these two models are equal\n",
            "Item 39/48: All the weights of these two models are equal\n",
            "Item 40/48: All the weights of these two models are equal\n",
            "Item 41/48: All the weights of these two models are equal\n",
            "Item 42/48: All the weights of these two models are equal\n",
            "Item 43/48: All the weights of these two models are equal\n",
            "Item 44/48: All the weights of these two models are equal\n",
            "Item 45/48: All the weights of these two models are equal\n",
            "Item 46/48: All the weights of these two models are equal\n",
            "Item 47/48: All the weights of these two models are equal\n",
            "Item 48/48: All the weights of these two models are equal\n"
          ]
        }
      ]
    },
    {
      "cell_type": "code",
      "source": [
        "# See optimizer of saved model (we expect to see Adam optimizer as we used)\n",
        "print(new_model.optimizer)"
      ],
      "metadata": {
        "colab": {
          "base_uri": "https://localhost:8080/"
        },
        "id": "i8IGcmno8BVt",
        "outputId": "21326b84-6bd7-4ee0-dcb8-dbbe1ba5e856"
      },
      "execution_count": 68,
      "outputs": [
        {
          "output_type": "stream",
          "name": "stdout",
          "text": [
            "<keras.optimizers.optimizer_experimental.adam.Adam object at 0x7f4a30f90610>\n"
          ]
        }
      ]
    },
    {
      "cell_type": "markdown",
      "source": [
        "### **Discussion**\n",
        "Let's see the output of model by using `model.predict()`. Thus, we can see the new data acquired from autoencoder model built for the generative task. \n",
        "You may be interested in how to denoise these images distorted by our autoencoder model.\n",
        "Answer: Use a new autoencoder for denoising task."
      ],
      "metadata": {
        "id": "F6YMllhpywWj"
      }
    },
    {
      "cell_type": "code",
      "source": [
        "import matplotlib.pyplot as plot\n",
        "# Randomly choose some data\n",
        "a = np.random.randint(low=0, high=1000)\n",
        "b = np.random.randint(low=0, high=1000)\n",
        "if a>=b:\n",
        "  start = b\n",
        "  end = a\n",
        "else:\n",
        "  start = a\n",
        "  end = b\n",
        "\n",
        "x = x_train[start:end,:,:] # (#samples, #rows, #columns, #channels)\n",
        "predictions = autoencoder.predict(x)\n",
        "original = x_train[start:end,:,:]\n",
        "sample =np.random.randint(low=0, high=original.shape[0])\n",
        "pred_one = predictions[sample,:,:,:]\n",
        "original_one = original[sample,:,:,:]\n",
        "plt.figure(figsize=(5,5))\n",
        "plt.subplot(1, 2, 1)\n",
        "plt.imshow(original_one, cmap='gray')\n",
        "plt.title('Original Data')\n",
        "plt.subplot(1, 2, 2)\n",
        "plt.imshow(pred_one, cmap='gray')\n",
        "plt.title('Autoencoder Applied Data')"
      ],
      "metadata": {
        "colab": {
          "base_uri": "https://localhost:8080/",
          "height": 226
        },
        "id": "8aahpx3Tzfhd",
        "outputId": "1eebf8aa-aa81-42e6-bbf7-89e32d3d3e2a"
      },
      "execution_count": 116,
      "outputs": [
        {
          "output_type": "stream",
          "name": "stdout",
          "text": [
            "27/27 [==============================] - 4s 138ms/step\n"
          ]
        },
        {
          "output_type": "execute_result",
          "data": {
            "text/plain": [
              "Text(0.5, 1.0, 'Autoencoder Applied Data')"
            ]
          },
          "metadata": {},
          "execution_count": 116
        },
        {
          "output_type": "display_data",
          "data": {
            "text/plain": [
              "<Figure size 360x360 with 2 Axes>"
            ],
            "image/png": "[encoded data removed]"
          },
          "metadata": {
            "needs_background": "light"
          }
        }
      ]
    },
    {
      "cell_type": "markdown",
      "source": [
        "Thank you for reading, and please ask me if you got any questions.\n",
        "\n",
        "---\n",
        "\n"
      ],
      "metadata": {
        "id": "OAj5YpRfBycD"
      }
    }
  ]
}